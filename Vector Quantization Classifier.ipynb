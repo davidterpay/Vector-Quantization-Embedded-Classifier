{
 "cells": [
  {
   "cell_type": "markdown",
   "metadata": {},
   "source": [
    "## Vector Quantization Classifier\n",
    "### Written by David Terpay\n",
    "Build a classifier that classifies the given files into the appropriate activity ('Use_telephone', 'Standup_chair', 'Walk', 'Climb_stairs', 'Sitdown_chair', 'Brush_teeth', 'Comb_hair', 'Eat_soup', 'Pour_water', 'Descend_stairs', 'Eat_meat', 'Drink_glass', 'Getup_bed', 'Liedown_bed').\n",
    "\n",
    "The data items in this case are the files themselves; the classifier you learn will be able to take an activity file of arbitrary length and classify it with one of the activity labels. You might notice that each file is of a different length, which is why we will use vector quantization to turn each file into a fixed-length feature vector.\n",
    "\n",
    "For your classifier's features, you should use vector quantization, creating a histogram of cluster centers for each data item. You should use k-means in order to construct the pattern vocabulary. You may use whichever multi-class classifier you wish.\n",
    "\n",
    "Please hand in the following\n",
    "\n",
    "Report your total error rate and the class confusion matrix for your classifier.\n",
    "Then, improve your classifier by a) modifying the number of cluster centers in your k-means and b) modifying the size of the fixed length samples that you use."
   ]
  },
  {
   "cell_type": "markdown",
   "metadata": {},
   "source": [
    "### Importing necessary packages"
   ]
  },
  {
   "cell_type": "code",
   "execution_count": 1,
   "metadata": {
    "collapsed": true
   },
   "outputs": [],
   "source": [
    "import pandas as pd\n",
    "import numpy as np\n",
    "import os, sys\n",
    "import csv\n",
    "from sklearn.cluster import KMeans\n",
    "from matplotlib import pyplot\n",
    "from mpl_toolkits.mplot3d import Axes3D\n",
    "import random\n",
    "from sklearn.model_selection import train_test_split\n",
    "from sklearn.ensemble import RandomForestClassifier\n",
    "from sklearn import metrics\n",
    "from sklearn.svm import SVC\n",
    "%matplotlib inline"
   ]
  },
  {
   "cell_type": "markdown",
   "metadata": {},
   "source": [
    "### Parsing and reading the data\n",
    "\n",
    "We will store the integer labels for each activity and its corresponding directory in list_data_ints. We will additionally store all of the pathways for each of the files in list_data_files"
   ]
  },
  {
   "cell_type": "code",
   "execution_count": 2,
   "metadata": {
    "collapsed": true
   },
   "outputs": [],
   "source": [
    "list_data_ints = []\n",
    "list_data_files = []\n",
    "\n",
    "#path to determine where to read directory\n",
    "path = '/Users/davidterpay/Desktop/UIUC/CS 361/Final/HMP_Dataset/'\n",
    "dirs = os.listdir(path)\n",
    "dirs.remove('.DS_Store')\n",
    "dirs.remove('.ipynb_checkpoints')\n",
    "row = 0\n",
    "ctr = 0\n",
    "#reading the data\n",
    "for file in dirs:\n",
    "    folder = os.listdir(path + '/' + file)\n",
    "    #changing directory\n",
    "    os.chdir(path + file)\n",
    "    for data in folder:\n",
    "        list_data_ints.append(ctr)\n",
    "        list_data_files.append(path + file + '/' + data)\n",
    "    ctr += 1\n",
    "    #changing directory\n",
    "    os.chdir(path)\n",
    "    \n"
   ]
  },
  {
   "cell_type": "markdown",
   "metadata": {},
   "source": [
    "### Spliting the data into training and testing data\n",
    "Using sklearns sklearn.model_selection package we will efficiently randomize the data and select proper test size."
   ]
  },
  {
   "cell_type": "code",
   "execution_count": 3,
   "metadata": {
    "collapsed": true
   },
   "outputs": [],
   "source": [
    "X_train, X_test, y_train, y_test = train_test_split(list_data_files,list_data_ints,test_size=0.2,random_state = 100)"
   ]
  },
  {
   "cell_type": "markdown",
   "metadata": {},
   "source": [
    "### Member functions\n",
    "\n",
    "#### get_vec()\n",
    "This function will read in the data from a given file and will store of the data in x,y,z coordinates etc. This is a helper function to fully_extract.\n",
    "\n",
    "#### fully_extract()\n",
    "This function is an abstract function that will read in all of the files from list and will convert them all into a more practical format.\n",
    "\n",
    "#### make_vec()\n",
    "This function is a function that will create a fixed length vector of any given size. We do this to allow vector quantization to happen if our files are of different lengths. This is a helper function.\n",
    "\n",
    "#### total_vec()\n",
    "This function is an abstract function that will create fixed length vectors of all of the vectors in a given file.\n",
    "\n",
    "#### split_file_data()\n",
    "This function allows us to use prediction with k-means later on. It simply finds all fixed length vectors in a given file and puts them into a list.\n",
    "\n",
    "#### features()\n",
    "This function produces the features of our dataset. This will allow us to apply k-means and then push all of our features onto any classifier we want."
   ]
  },
  {
   "cell_type": "code",
   "execution_count": 4,
   "metadata": {
    "collapsed": true
   },
   "outputs": [],
   "source": [
    "def get_vec(filepath):\n",
    "    data = []\n",
    "    with open(filepath, \"rt\") as file:\n",
    "            for line in file:\n",
    "                list_of_nums = [int(x) for x in line.split()]\n",
    "                data.append(list_of_nums)\n",
    "    return data\n",
    "\n",
    "def fully_extract(files):\n",
    "    test_data = []\n",
    "    for name in files:\n",
    "        test_data.append(get_vec(name))\n",
    "    return test_data\n",
    "    \n",
    "def make_vec(array,size):\n",
    "    counter = len(array) // size\n",
    "    total_vec = []\n",
    "    up_bound = size\n",
    "    lower_bound= 0\n",
    "    for i in range(0,counter * size,size):\n",
    "        temp = array[lower_bound:up_bound]\n",
    "        lower_bound += size\n",
    "        up_bound += size\n",
    "        temp = np.asarray(temp)\n",
    "        total_vec.append(temp.transpose().flatten())\n",
    "    return total_vec\n",
    "\n",
    "def total_vec(data,size):\n",
    "    total_data = []\n",
    "    for i in range(len(data)):\n",
    "        for row in make_vec(data[i],size):\n",
    "            total_data.append(row)\n",
    "    return total_data\n",
    "\n",
    "def split_file_data(data,size):\n",
    "    total_data = []\n",
    "    for i in range(len(data)):\n",
    "        total_data.append(make_vec(data[i],size))\n",
    "    return total_data\n",
    "\n",
    "def features(array,dataset,clusters):\n",
    "    kmeans = KMeans(n_clusters=clusters,random_state=100)\n",
    "    kmeans.fit(dataset)\n",
    "    features = []\n",
    "    for file in array:\n",
    "        feature = []\n",
    "        temp_vec = kmeans.predict(file)\n",
    "        for i in range(clusters):\n",
    "            frequency = (temp_vec == i).sum()\n",
    "            if frequency != 0:\n",
    "                feature.append(frequency)\n",
    "            else:\n",
    "                feature.append(0)\n",
    "        features.append(feature)\n",
    "    return features"
   ]
  },
  {
   "cell_type": "markdown",
   "metadata": {},
   "source": [
    "### Let us denote training data here"
   ]
  },
  {
   "cell_type": "code",
   "execution_count": 5,
   "metadata": {
    "collapsed": true
   },
   "outputs": [],
   "source": [
    "#first find all of the vectors\n",
    "data_total_training = fully_extract(X_train)\n",
    "#merge all of the vectors together\n",
    "clean_data_total_training = total_vec(data_total_training,32)\n",
    "#split all of the vectors by file\n",
    "split_file = split_file_data(data_total_training,32)"
   ]
  },
  {
   "cell_type": "markdown",
   "metadata": {},
   "source": [
    "### Let us denote our testing data here\n"
   ]
  },
  {
   "cell_type": "code",
   "execution_count": 6,
   "metadata": {
    "collapsed": true
   },
   "outputs": [],
   "source": [
    "#first find all of the vectors\n",
    "test_total_all = fully_extract(X_test)\n",
    "#merge all of the vectors together\n",
    "test_data_total_combined = total_vec(test_total_all,32)\n",
    "#split all of the vectors by file\n",
    "split_file_test = split_file_data(test_total_all,32)"
   ]
  },
  {
   "cell_type": "markdown",
   "metadata": {},
   "source": [
    "### We will use SVC as our classifier"
   ]
  },
  {
   "cell_type": "code",
   "execution_count": 8,
   "metadata": {
    "collapsed": true
   },
   "outputs": [],
   "source": [
    "clf = SVC()\n",
    "training_feature = features(split_file,clean_data_total_training,50)\n",
    "clf.fit(training_feature, y_train)\n",
    "\n",
    "test_features = features(split_file_test, clean_data_total_training,50)\n",
    "predicted_labels = clf.predict(test_features)"
   ]
  },
  {
   "cell_type": "markdown",
   "metadata": {},
   "source": [
    "# Accuracy/Error rate for 50 clusters and a fixed vector length of 32"
   ]
  },
  {
   "cell_type": "code",
   "execution_count": 9,
   "metadata": {},
   "outputs": [
    {
     "name": "stdout",
     "output_type": "stream",
     "text": [
      "The accuracy score of this SVC is 0.744047619048\n",
      "The error rate of this SVC is 0.255952380952\n"
     ]
    }
   ],
   "source": [
    "print(\"The accuracy score of this SVC is\", metrics.accuracy_score(y_test,predicted_labels))\n",
    "print(\"The error rate of this SVC is\", str(1 - metrics.accuracy_score(y_test,predicted_labels)))"
   ]
  },
  {
   "cell_type": "markdown",
   "metadata": {},
   "source": [
    "# Confusion Matrix for 50 clusters and a fixed vector length of 32"
   ]
  },
  {
   "cell_type": "code",
   "execution_count": 10,
   "metadata": {},
   "outputs": [
    {
     "name": "stdout",
     "output_type": "stream",
     "text": [
      "The confusion matrix of the SVC is\n"
     ]
    },
    {
     "data": {
      "text/plain": [
       "array([[ 0,  0,  2,  0,  0,  1,  0,  0,  0,  0,  0,  0],\n",
       "       [ 0, 14,  0,  0,  0,  0,  0,  3,  0,  0,  0,  0],\n",
       "       [ 0,  1, 24,  0,  0,  1,  0,  1,  2,  0,  0,  0],\n",
       "       [ 0,  1,  0,  2,  0,  0,  0,  6,  0,  0,  0,  0],\n",
       "       [ 0,  1,  0,  0,  2,  0,  0,  0,  0,  0,  0,  0],\n",
       "       [ 0,  0,  0,  0,  0, 14,  0,  0,  7,  0,  0,  1],\n",
       "       [ 0,  4,  0,  0,  0,  0,  0,  0,  0,  0,  0,  0],\n",
       "       [ 0,  1,  0,  0,  0,  0,  0, 17,  0,  0,  1,  0],\n",
       "       [ 0,  0,  2,  0,  0,  5,  0,  0, 15,  0,  0,  0],\n",
       "       [ 0,  0,  0,  0,  0,  0,  0,  0,  0,  4,  0,  0],\n",
       "       [ 0,  0,  0,  0,  0,  0,  0,  0,  0,  0, 20,  2],\n",
       "       [ 0,  1,  0,  0,  0,  0,  0,  0,  0,  0,  0, 13]])"
      ]
     },
     "execution_count": 10,
     "metadata": {},
     "output_type": "execute_result"
    }
   ],
   "source": [
    "print(\"The confusion matrix of the SVC is\")\n",
    "metrics.confusion_matrix(y_test,predicted_labels)"
   ]
  },
  {
   "cell_type": "markdown",
   "metadata": {},
   "source": [
    "#### classify()\n",
    "This is a wrapper function that allows you to input as many clusters as you want as well as controlling the size of the fixed length vector"
   ]
  },
  {
   "cell_type": "code",
   "execution_count": 11,
   "metadata": {
    "collapsed": true
   },
   "outputs": [],
   "source": [
    "def classify(clusters,vector_size):\n",
    "    #first find all of the vectors\n",
    "    data_total_training = fully_extract(X_train)\n",
    "    #merge all of the vectors together\n",
    "    clean_data_total_training = total_vec(data_total_training,vector_size)\n",
    "    #split all of the vectors by file\n",
    "    split_file = split_file_data(data_total_training,vector_size)\n",
    "    #first find all of the vectors\n",
    "    test_total_all = fully_extract(X_test)\n",
    "    #merge all of the vectors together\n",
    "    test_data_total_combined = total_vec(test_total_all,vector_size)\n",
    "    #split all of the vectors by file\n",
    "    split_file_test = split_file_data(test_total_all,vector_size)\n",
    "    clf = SVC()\n",
    "    training_feature = features(split_file,clean_data_total_training,clusters)\n",
    "    clf.fit(training_feature, y_train)\n",
    "    test_features = features(split_file_test, clean_data_total_training,clusters)\n",
    "    predicted_labels = clf.predict(test_features)\n",
    "    return metrics.accuracy_score(y_test,predicted_labels)"
   ]
  },
  {
   "cell_type": "code",
   "execution_count": 12,
   "metadata": {
    "collapsed": true
   },
   "outputs": [],
   "source": [
    "def graphing_clusters(low,clusters):\n",
    "    x = []\n",
    "    y = []\n",
    "    for i in range(low,clusters):\n",
    "        x.append(i)\n",
    "        y.append(1 - classify(i,32))\n",
    "    return x,y\n",
    "x,y = graphing_clusters(1,50)"
   ]
  },
  {
   "cell_type": "markdown",
   "metadata": {},
   "source": [
    "# Optimizing the Number of clusters"
   ]
  },
  {
   "cell_type": "code",
   "execution_count": 14,
   "metadata": {},
   "outputs": [
    {
     "data": {
      "image/png": "[encoded data removed]",
      "text/plain": [
       "<matplotlib.figure.Figure at 0x1a13b1ac50>"
      ]
     },
     "metadata": {},
     "output_type": "display_data"
    }
   ],
   "source": [
    "# plot with matplotlib\n",
    "import matplotlib.pyplot as plt\n",
    "plt.plot( x,y, marker='o', color='mediumvioletred')\n",
    "plt.title(\"Number of Clusters VS. the Error Rate\")\n",
    "plt.xlabel(\"Number of Clusters\")\n",
    "plt.ylabel(\"Error Rate\")\n",
    "plt.show()"
   ]
  },
  {
   "cell_type": "markdown",
   "metadata": {},
   "source": [
    "### It is clear from the graph that aroujnd 48-52 clusters will provide us with the smallest error rate. In the following portion where I test the optimal fixed vector length, I will use 50 clusters."
   ]
  },
  {
   "cell_type": "code",
   "execution_count": 15,
   "metadata": {
    "collapsed": true
   },
   "outputs": [],
   "source": [
    "def graphing_vectors(low,high):\n",
    "    x = []\n",
    "    y = []\n",
    "    for i in range(low,high):\n",
    "        x.append(i)\n",
    "        y.append(1 - classify(50,i))\n",
    "    return x,y\n",
    "x,y = graphing_vectors(1,50)"
   ]
  },
  {
   "cell_type": "markdown",
   "metadata": {},
   "source": [
    "# Optimizing the Fixed Vector Length"
   ]
  },
  {
   "cell_type": "code",
   "execution_count": 16,
   "metadata": {},
   "outputs": [
    {
     "data": {
      "image/png": "[encoded data removed]",
      "text/plain": [
       "<matplotlib.figure.Figure at 0x1a254a20f0>"
      ]
     },
     "metadata": {},
     "output_type": "display_data"
    }
   ],
   "source": [
    "# plot with matplotlib\n",
    "plt.plot( x,y, marker='o', color='mediumvioletred')\n",
    "plt.title(\"Length of Fixed Vector VS. the Error Rate\")\n",
    "plt.xlabel(\"Vector Length\")\n",
    "plt.ylabel(\"Error Rate\")\n",
    "plt.show()"
   ]
  },
  {
   "cell_type": "markdown",
   "metadata": {},
   "source": [
    "We generally want to select a low error rate in order to make our classifier be as accurate as possible. This point is usually known as the elbow or the knee. Based on both of the graphs mentioned above, it is clear that somewhere between 20-50 clusters and a vector size between 30-50 is optimal. Using 50 clusters and a fixed vector length of 44 we get total error rate to be..."
   ]
  },
  {
   "cell_type": "code",
   "execution_count": 17,
   "metadata": {},
   "outputs": [
    {
     "name": "stdout",
     "output_type": "stream",
     "text": [
      "The error rate is 0.238095238095\n"
     ]
    }
   ],
   "source": [
    "print(\"The error rate is \"+ str(1 - classify(50,44)))"
   ]
  }
 ],
 "metadata": {
  "kernelspec": {
   "display_name": "Python 3",
   "language": "python",
   "name": "python3"
  },
  "language_info": {
   "codemirror_mode": {
    "name": "ipython",
    "version": 3
   },
   "file_extension": ".py",
   "mimetype": "text/x-python",
   "name": "python",
   "nbconvert_exporter": "python",
   "pygments_lexer": "ipython3",
   "version": "3.6.1"
  }
 },
 "nbformat": 4,
 "nbformat_minor": 2
}
